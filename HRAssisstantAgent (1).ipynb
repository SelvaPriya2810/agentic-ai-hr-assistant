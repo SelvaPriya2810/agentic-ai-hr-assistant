{
  "nbformat": 4,
  "nbformat_minor": 0,
  "metadata": {
    "colab": {
      "provenance": []
    },
    "kernelspec": {
      "name": "python3",
      "display_name": "Python 3"
    },
    "language_info": {
      "name": "python"
    }
  },
  "cells": [
    {
      "cell_type": "code",
      "execution_count": 26,
      "metadata": {
        "id": "iw-JELR6jNgU"
      },
      "outputs": [],
      "source": [
        "!pip install --quiet langchain openai langgraph faiss-cpu tiktoken langchain-community\n"
      ]
    },
    {
      "cell_type": "code",
      "source": [
        "import os\n",
        "os.environ[\"OPENAI_API_KEY\"] =\n"
      ],
      "metadata": {
        "id": "cSSRZGXok4oh"
      },
      "execution_count": 27,
      "outputs": []
    },
    {
      "cell_type": "code",
      "source": [
        "from langchain.agents import Tool\n",
        "from langchain.chat_models import ChatOpenAI\n",
        "\n",
        "llm = ChatOpenAI(temperature=0.3)\n",
        "\n",
        "# Tool 1: Job Description Generator\n",
        "def generate_job_description(role: str) -> str:\n",
        "    prompt = (\n",
        "        f\"Create a job description for a {role} at SquareShift. \"\n",
        "        \"Highlight responsibilities in digital transformation, data engineering, \"\n",
        "        \"cybersecurity, and cloud adoption. Emphasize our presence in the USA, Singapore, and India, \"\n",
        "        \"and our commitment to innovation and client success.\"\n",
        "    )\n",
        "    return llm.predict(prompt)\n",
        "\n",
        "jd_tool = Tool(\n",
        "    name=\"JobDescriptionGenerator\",\n",
        "    func=generate_job_description,\n",
        "    description=\"Generates a job description for a given role at SquareShift\"\n",
        ")\n",
        "\n",
        "# Tool 2: Hiring Plan Generator\n",
        "def generate_hiring_plan(role: str) -> str:\n",
        "    return (\n",
        "        f\"The hiring plan for a {role} at SquareShift includes: \"\n",
        "        \"1) Sourcing candidates through tech communities and platforms; \"\n",
        "        \"2) Screening resumes for alignment with our expertise in AI, ML, and cloud services; \"\n",
        "        \"3) Conducting technical interviews focusing on problem-solving and innovation; \"\n",
        "        \"4) Final interviews to assess cultural fit and commitment to our mission; \"\n",
        "        \"5) Rolling out offers with competitive compensation and growth opportunities.\"\n",
        "    )\n",
        "\n",
        "plan_tool = Tool(\n",
        "    name=\"HiringPlanTool\",\n",
        "    func=generate_hiring_plan,\n",
        "    description=\"Provides a 5-step hiring plan for a given role at SquareShift\"\n",
        ")\n",
        "\n",
        "# Tool 3: Cost Estimator\n",
        "def estimate_cost(role: str) -> str:\n",
        "    base_cost = {\n",
        "        \"Senior Software Engineer\": 15000,\n",
        "        \"DevOps Engineer\": 14000,\n",
        "        \"Data Analyst\": 13000,\n",
        "        \"Cybersecurity Specialist\": 16000\n",
        "    }\n",
        "    cost = base_cost.get(role, 12000)\n",
        "    return f\"The estimated hiring cost for a {role} at SquareShift is approximately ${cost}.\"\n",
        "\n",
        "cost_tool = Tool(\n",
        "    name=\"CostEstimatorTool\",\n",
        "    func=estimate_cost,\n",
        "    description=\"Estimates hiring cost for a given role at SquareShift\"\n",
        ")\n",
        "\n",
        "# List of all tools\n",
        "tools = [jd_tool, plan_tool, cost_tool]\n"
      ],
      "metadata": {
        "id": "59x24o65lHKf"
      },
      "execution_count": 28,
      "outputs": []
    },
    {
      "cell_type": "code",
      "source": [
        "from langchain.agents import initialize_agent, AgentType\n",
        "from langchain.memory import ConversationBufferMemory\n",
        "\n",
        "# Step 1: Memory\n",
        "memory = ConversationBufferMemory(memory_key=\"chat_history\", return_messages=True)\n",
        "\n",
        "# Step 2: Initialize the Agent\n",
        "agent = initialize_agent(\n",
        "    tools=tools,\n",
        "    llm=llm,\n",
        "    agent=AgentType.CHAT_CONVERSATIONAL_REACT_DESCRIPTION,\n",
        "    verbose=True,\n",
        "    memory=memory\n",
        ")\n"
      ],
      "metadata": {
        "id": "9e1mO4dZmTjj"
      },
      "execution_count": 29,
      "outputs": []
    },
    {
      "cell_type": "code",
      "source": [
        "# Example 1: sample hiring plan\n",
        "agent.run(\"We're hiring a Senior Software Engineer. Can you help me plan the hiring process?\")"
      ],
      "metadata": {
        "colab": {
          "base_uri": "https://localhost:8080/",
          "height": 385
        },
        "id": "lIjsVOuqxD-S",
        "outputId": "b9d0b25f-bf12-4411-def3-f07453133697"
      },
      "execution_count": 30,
      "outputs": [
        {
          "output_type": "stream",
          "name": "stdout",
          "text": [
            "\n",
            "\n",
            "\u001b[1m> Entering new AgentExecutor chain...\u001b[0m\n",
            "\u001b[32;1m\u001b[1;3m```json\n",
            "{\n",
            "    \"action\": \"HiringPlanTool\",\n",
            "    \"action_input\": \"Senior Software Engineer\"\n",
            "}\n",
            "```\u001b[0m\n",
            "Observation: \u001b[33;1m\u001b[1;3mThe hiring plan for a Senior Software Engineer at SquareShift includes: 1) Sourcing candidates through tech communities and platforms; 2) Screening resumes for alignment with our expertise in AI, ML, and cloud services; 3) Conducting technical interviews focusing on problem-solving and innovation; 4) Final interviews to assess cultural fit and commitment to our mission; 5) Rolling out offers with competitive compensation and growth opportunities.\u001b[0m\n",
            "Thought:\u001b[32;1m\u001b[1;3m```json\n",
            "{\n",
            "    \"action\": \"Final Answer\",\n",
            "    \"action_input\": \"The hiring plan for a Senior Software Engineer at SquareShift includes: 1) Sourcing candidates through tech communities and platforms; 2) Screening resumes for alignment with expertise in AI, ML, and cloud services; 3) Conducting technical interviews focusing on problem-solving and innovation; 4) Final interviews to assess cultural fit and commitment to the mission; 5) Rolling out offers with competitive compensation and growth opportunities.\"\n",
            "}\n",
            "```\u001b[0m\n",
            "\n",
            "\u001b[1m> Finished chain.\u001b[0m\n"
          ]
        },
        {
          "output_type": "execute_result",
          "data": {
            "text/plain": [
              "'The hiring plan for a Senior Software Engineer at SquareShift includes: 1) Sourcing candidates through tech communities and platforms; 2) Screening resumes for alignment with expertise in AI, ML, and cloud services; 3) Conducting technical interviews focusing on problem-solving and innovation; 4) Final interviews to assess cultural fit and commitment to the mission; 5) Rolling out offers with competitive compensation and growth opportunities.'"
            ],
            "application/vnd.google.colaboratory.intrinsic+json": {
              "type": "string"
            }
          },
          "metadata": {},
          "execution_count": 30
        }
      ]
    },
    {
      "cell_type": "code",
      "source": [
        "# Example 2: Ask about JD\n",
        "agent.run(\"Can you generate a job description for Senior Software Engineer role?\")"
      ],
      "metadata": {
        "colab": {
          "base_uri": "https://localhost:8080/",
          "height": 750
        },
        "id": "Or2VkVxTxIlG",
        "outputId": "aa82fd28-bdb4-45df-e3e7-beaaeaf29bbc"
      },
      "execution_count": 31,
      "outputs": [
        {
          "output_type": "stream",
          "name": "stdout",
          "text": [
            "\n",
            "\n",
            "\u001b[1m> Entering new AgentExecutor chain...\u001b[0m\n",
            "\u001b[32;1m\u001b[1;3m```json\n",
            "{\n",
            "    \"action\": \"JobDescriptionGenerator\",\n",
            "    \"action_input\": \"Senior Software Engineer\"\n",
            "}\n",
            "```\u001b[0m\n",
            "Observation: \u001b[36;1m\u001b[1;3mSquareShift is seeking a highly skilled and experienced Senior Software Engineer to join our dynamic team. As a Senior Software Engineer, you will play a key role in driving digital transformation, data engineering, cybersecurity, and cloud adoption initiatives for our clients in the USA, Singapore, and India.\n",
            "\n",
            "Responsibilities:\n",
            "- Lead and participate in the design, development, and implementation of software solutions that support digital transformation efforts for our clients\n",
            "- Collaborate with cross-functional teams to build and maintain data engineering pipelines and systems\n",
            "- Implement and maintain cybersecurity best practices to protect our clients' sensitive information\n",
            "- Drive cloud adoption strategies and initiatives to optimize performance and scalability\n",
            "- Mentor and guide junior engineers to ensure successful project delivery\n",
            "- Stay current on industry trends and best practices in software engineering, cybersecurity, and cloud technologies\n",
            "\n",
            "Requirements:\n",
            "- Bachelor's degree in Computer Science, Engineering, or a related field\n",
            "- 5+ years of experience in software engineering, with a focus on digital transformation, data engineering, cybersecurity, and cloud adoption\n",
            "- Proficiency in programming languages such as Java, Python, or C++\n",
            "- Experience with cloud platforms such as AWS, Azure, or Google Cloud\n",
            "- Strong understanding of cybersecurity principles and best practices\n",
            "- Excellent communication and collaboration skills\n",
            "\n",
            "At SquareShift, we are committed to innovation and client success. If you are passionate about leveraging technology to drive business transformation and deliver exceptional results for our clients, we want to hear from you. Join us in shaping the future of software engineering and making a positive impact on businesses around the world.\u001b[0m\n",
            "Thought:\u001b[32;1m\u001b[1;3m```json\n",
            "{\n",
            "    \"action\": \"Final Answer\",\n",
            "    \"action_input\": \"SquareShift is seeking a highly skilled and experienced Senior Software Engineer to join our dynamic team. As a Senior Software Engineer, you will play a key role in driving digital transformation, data engineering, cybersecurity, and cloud adoption initiatives for our clients in the USA, Singapore, and India. Responsibilities include leading and participating in software solution design, collaborating with cross-functional teams, implementing cybersecurity best practices, driving cloud adoption strategies, mentoring junior engineers, and staying current on industry trends. Requirements include a Bachelor's degree in Computer Science or related field, 5+ years of software engineering experience, proficiency in programming languages like Java, Python, or C++, experience with cloud platforms like AWS, Azure, or Google Cloud, strong cybersecurity knowledge, and excellent communication skills. If you are passionate about leveraging technology for business transformation and client success, we want to hear from you.\"\n",
            "}\n",
            "```\u001b[0m\n",
            "\n",
            "\u001b[1m> Finished chain.\u001b[0m\n"
          ]
        },
        {
          "output_type": "execute_result",
          "data": {
            "text/plain": [
              "\"SquareShift is seeking a highly skilled and experienced Senior Software Engineer to join our dynamic team. As a Senior Software Engineer, you will play a key role in driving digital transformation, data engineering, cybersecurity, and cloud adoption initiatives for our clients in the USA, Singapore, and India. Responsibilities include leading and participating in software solution design, collaborating with cross-functional teams, implementing cybersecurity best practices, driving cloud adoption strategies, mentoring junior engineers, and staying current on industry trends. Requirements include a Bachelor's degree in Computer Science or related field, 5+ years of software engineering experience, proficiency in programming languages like Java, Python, or C++, experience with cloud platforms like AWS, Azure, or Google Cloud, strong cybersecurity knowledge, and excellent communication skills. If you are passionate about leveraging technology for business transformation and client success, we want to hear from you.\""
            ],
            "application/vnd.google.colaboratory.intrinsic+json": {
              "type": "string"
            }
          },
          "metadata": {},
          "execution_count": 31
        }
      ]
    },
    {
      "cell_type": "code",
      "source": [
        "# Example 3: Cost?\n",
        "agent.run(\"How much will hiring Senior Software Engineer cost us?\")"
      ],
      "metadata": {
        "colab": {
          "base_uri": "https://localhost:8080/",
          "height": 348
        },
        "id": "makzZis5xOgK",
        "outputId": "00b32e1d-50e3-4efd-c1e9-28cc41c5f15c"
      },
      "execution_count": 32,
      "outputs": [
        {
          "output_type": "stream",
          "name": "stdout",
          "text": [
            "\n",
            "\n",
            "\u001b[1m> Entering new AgentExecutor chain...\u001b[0m\n",
            "\u001b[32;1m\u001b[1;3m```json\n",
            "{\n",
            "    \"action\": \"CostEstimatorTool\",\n",
            "    \"action_input\": \"Senior Software Engineer\"\n",
            "}\n",
            "```\u001b[0m\n",
            "Observation: \u001b[38;5;200m\u001b[1;3mThe estimated hiring cost for a Senior Software Engineer at SquareShift is approximately $15000.\u001b[0m\n",
            "Thought:\u001b[32;1m\u001b[1;3m```json\n",
            "{\n",
            "    \"action\": \"Final Answer\",\n",
            "    \"action_input\": \"The estimated hiring cost for a Senior Software Engineer at SquareShift is approximately $15000.\"\n",
            "}\n",
            "```\u001b[0m\n",
            "\n",
            "\u001b[1m> Finished chain.\u001b[0m\n"
          ]
        },
        {
          "output_type": "execute_result",
          "data": {
            "text/plain": [
              "'The estimated hiring cost for a Senior Software Engineer at SquareShift is approximately $15000.'"
            ],
            "application/vnd.google.colaboratory.intrinsic+json": {
              "type": "string"
            }
          },
          "metadata": {},
          "execution_count": 32
        }
      ]
    },
    {
      "cell_type": "code",
      "source": [
        "agent.run(\"Suggest a hiring plan for a Data Analyst\")"
      ],
      "metadata": {
        "colab": {
          "base_uri": "https://localhost:8080/",
          "height": 385
        },
        "id": "vIo-S-LjzBnZ",
        "outputId": "f6d05847-127f-47a2-9a3e-4898fabe2141"
      },
      "execution_count": 33,
      "outputs": [
        {
          "output_type": "stream",
          "name": "stdout",
          "text": [
            "\n",
            "\n",
            "\u001b[1m> Entering new AgentExecutor chain...\u001b[0m\n",
            "\u001b[32;1m\u001b[1;3m```json\n",
            "{\n",
            "    \"action\": \"HiringPlanTool\",\n",
            "    \"action_input\": \"Data Analyst\"\n",
            "}\n",
            "```\u001b[0m\n",
            "Observation: \u001b[33;1m\u001b[1;3mThe hiring plan for a Data Analyst at SquareShift includes: 1) Sourcing candidates through tech communities and platforms; 2) Screening resumes for alignment with our expertise in AI, ML, and cloud services; 3) Conducting technical interviews focusing on problem-solving and innovation; 4) Final interviews to assess cultural fit and commitment to our mission; 5) Rolling out offers with competitive compensation and growth opportunities.\u001b[0m\n",
            "Thought:\u001b[32;1m\u001b[1;3m```json\n",
            "{\n",
            "    \"action\": \"Final Answer\",\n",
            "    \"action_input\": \"The hiring plan for a Data Analyst at SquareShift includes: 1) Sourcing candidates through tech communities and platforms; 2) Screening resumes for alignment with our expertise in AI, ML, and cloud services; 3) Conducting technical interviews focusing on problem-solving and innovation; 4) Final interviews to assess cultural fit and commitment to our mission; 5) Rolling out offers with competitive compensation and growth opportunities.\"\n",
            "}\n",
            "```\u001b[0m\n",
            "\n",
            "\u001b[1m> Finished chain.\u001b[0m\n"
          ]
        },
        {
          "output_type": "execute_result",
          "data": {
            "text/plain": [
              "'The hiring plan for a Data Analyst at SquareShift includes: 1) Sourcing candidates through tech communities and platforms; 2) Screening resumes for alignment with our expertise in AI, ML, and cloud services; 3) Conducting technical interviews focusing on problem-solving and innovation; 4) Final interviews to assess cultural fit and commitment to our mission; 5) Rolling out offers with competitive compensation and growth opportunities.'"
            ],
            "application/vnd.google.colaboratory.intrinsic+json": {
              "type": "string"
            }
          },
          "metadata": {},
          "execution_count": 33
        }
      ]
    },
    {
      "cell_type": "code",
      "source": [
        "agent.run(\"Job description for a Data Analyst\")"
      ],
      "metadata": {
        "colab": {
          "base_uri": "https://localhost:8080/",
          "height": 750
        },
        "id": "6wgExcTJz4AJ",
        "outputId": "986fed47-4e65-4c37-c8c5-49051a90d56e"
      },
      "execution_count": 34,
      "outputs": [
        {
          "output_type": "stream",
          "name": "stdout",
          "text": [
            "\n",
            "\n",
            "\u001b[1m> Entering new AgentExecutor chain...\u001b[0m\n",
            "\u001b[32;1m\u001b[1;3m```json\n",
            "{\n",
            "    \"action\": \"JobDescriptionGenerator\",\n",
            "    \"action_input\": \"Data Analyst\"\n",
            "}\n",
            "```\u001b[0m\n",
            "Observation: \u001b[36;1m\u001b[1;3mSquareShift is seeking a talented and driven Data Analyst to join our team. As a Data Analyst at SquareShift, you will play a crucial role in driving digital transformation, data engineering, cybersecurity, and cloud adoption for our clients in the USA, Singapore, and India. \n",
            "\n",
            "Responsibilities:\n",
            "- Collaborate with cross-functional teams to understand business requirements and provide data-driven insights\n",
            "- Design and implement data models and algorithms to extract valuable insights from large datasets\n",
            "- Develop and maintain data pipelines to ensure data quality and integrity\n",
            "- Implement cybersecurity measures to protect sensitive data and ensure compliance with regulations\n",
            "- Drive cloud adoption by migrating and optimizing data storage and processing on cloud platforms\n",
            "- Work closely with clients to understand their needs and deliver innovative solutions that drive business success\n",
            "\n",
            "Qualifications:\n",
            "- Bachelor's degree in Computer Science, Data Science, or a related field\n",
            "- Proven experience in data analysis, data engineering, and cybersecurity\n",
            "- Strong proficiency in SQL, Python, R, or other programming languages\n",
            "- Experience with cloud platforms such as AWS, Azure, or Google Cloud\n",
            "- Excellent communication and problem-solving skills\n",
            "- Ability to work independently and as part of a team\n",
            "\n",
            "At SquareShift, we are committed to innovation and client success. Join us in revolutionizing the way businesses leverage data to drive growth and achieve their goals. Apply now to be a part of our dynamic and fast-growing team.\u001b[0m\n",
            "Thought:\u001b[32;1m\u001b[1;3m```json\n",
            "{\n",
            "    \"action\": \"Final Answer\",\n",
            "    \"action_input\": \"SquareShift is seeking a talented and driven Data Analyst to join our team. As a Data Analyst at SquareShift, you will play a crucial role in driving digital transformation, data engineering, cybersecurity, and cloud adoption for our clients in the USA, Singapore, and India. Responsibilities include collaborating with cross-functional teams, designing and implementing data models and algorithms, developing and maintaining data pipelines, implementing cybersecurity measures, driving cloud adoption, and working closely with clients to deliver innovative solutions. Qualifications include a Bachelor's degree in Computer Science, Data Science, or a related field, proven experience in data analysis, data engineering, and cybersecurity, proficiency in SQL, Python, R, or other programming languages, experience with cloud platforms such as AWS, Azure, or Google Cloud, excellent communication and problem-solving skills, and the ability to work independently and as part of a team. Join us at SquareShift to be part of our dynamic and fast-growing team dedicated to innovation and client success.\"\n",
            "}\n",
            "```\u001b[0m\n",
            "\n",
            "\u001b[1m> Finished chain.\u001b[0m\n"
          ]
        },
        {
          "output_type": "execute_result",
          "data": {
            "text/plain": [
              "\"SquareShift is seeking a talented and driven Data Analyst to join our team. As a Data Analyst at SquareShift, you will play a crucial role in driving digital transformation, data engineering, cybersecurity, and cloud adoption for our clients in the USA, Singapore, and India. Responsibilities include collaborating with cross-functional teams, designing and implementing data models and algorithms, developing and maintaining data pipelines, implementing cybersecurity measures, driving cloud adoption, and working closely with clients to deliver innovative solutions. Qualifications include a Bachelor's degree in Computer Science, Data Science, or a related field, proven experience in data analysis, data engineering, and cybersecurity, proficiency in SQL, Python, R, or other programming languages, experience with cloud platforms such as AWS, Azure, or Google Cloud, excellent communication and problem-solving skills, and the ability to work independently and as part of a team. Join us at SquareShift to be part of our dynamic and fast-growing team dedicated to innovation and client success.\""
            ],
            "application/vnd.google.colaboratory.intrinsic+json": {
              "type": "string"
            }
          },
          "metadata": {},
          "execution_count": 34
        }
      ]
    }
  ]
}