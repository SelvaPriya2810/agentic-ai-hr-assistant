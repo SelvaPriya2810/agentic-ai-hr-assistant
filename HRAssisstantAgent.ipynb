{
  "nbformat": 4,
  "nbformat_minor": 0,
  "metadata": {
    "colab": {
      "provenance": []
    },
    "kernelspec": {
      "name": "python3",
      "display_name": "Python 3"
    },
    "language_info": {
      "name": "python"
    }
  },
  "cells": [
    {
      "cell_type": "code",
      "execution_count": 8,
      "metadata": {
        "id": "iw-JELR6jNgU"
      },
      "outputs": [],
      "source": [
        "!pip install --quiet langchain openai langgraph faiss-cpu tiktoken langchain-community\n"
      ]
    },
    {
      "cell_type": "code",
      "source": [
        "import os\n",
        "os.environ[\"OPENAI_API_KEY\"] = \"\"\n"
      ],
      "metadata": {
        "id": "cSSRZGXok4oh"
      },
      "execution_count": 9,
      "outputs": []
    },
    {
      "cell_type": "code",
      "source": [
        "from langchain.agents import Tool\n",
        "from langchain.chat_models import ChatOpenAI\n",
        "\n",
        "llm = ChatOpenAI(temperature=0.3)\n",
        "\n",
        "# Tool 1: Job Description Generator\n",
        "def generate_job_description(role: str) -> str:\n",
        "    prompt = (\n",
        "        f\"Create a job description for a {role} at SquareShift. \"\n",
        "        \"Highlight responsibilities in digital transformation, data engineering, \"\n",
        "        \"cybersecurity, and cloud adoption. Emphasize our presence in the USA, Singapore, and India, \"\n",
        "        \"and our commitment to innovation and client success.\"\n",
        "    )\n",
        "    return llm.predict(prompt)\n",
        "\n",
        "jd_tool = Tool(\n",
        "    name=\"JobDescriptionGenerator\",\n",
        "    func=generate_job_description,\n",
        "    description=\"Generates a job description for a given role at SquareShift\"\n",
        ")\n",
        "\n",
        "# Tool 2: Hiring Plan Generator\n",
        "def generate_hiring_plan(role: str) -> str:\n",
        "    return (\n",
        "        f\"The hiring plan for a {role} at SquareShift includes: \"\n",
        "        \"1) Sourcing candidates through tech communities and platforms; \"\n",
        "        \"2) Screening resumes for alignment with our expertise in AI, ML, and cloud services; \"\n",
        "        \"3) Conducting technical interviews focusing on problem-solving and innovation; \"\n",
        "        \"4) Final interviews to assess cultural fit and commitment to our mission; \"\n",
        "        \"5) Rolling out offers with competitive compensation and growth opportunities.\"\n",
        "    )\n",
        "\n",
        "plan_tool = Tool(\n",
        "    name=\"HiringPlanTool\",\n",
        "    func=generate_hiring_plan,\n",
        "    description=\"Provides a 5-step hiring plan for a given role at SquareShift\"\n",
        ")\n",
        "\n",
        "# Tool 3: Cost Estimator\n",
        "def estimate_cost(role: str) -> str:\n",
        "    base_cost = {\n",
        "        \"Senior Software Engineer\": 15000,\n",
        "        \"DevOps Engineer\": 14000,\n",
        "        \"Data Analyst\": 13000,\n",
        "        \"Cybersecurity Specialist\": 16000\n",
        "    }\n",
        "    cost = base_cost.get(role, 12000)\n",
        "    return f\"The estimated hiring cost for a {role} at SquareShift is approximately ${cost}.\"\n",
        "\n",
        "cost_tool = Tool(\n",
        "    name=\"CostEstimatorTool\",\n",
        "    func=estimate_cost,\n",
        "    description=\"Estimates hiring cost for a given role at SquareShift\"\n",
        ")\n",
        "\n",
        "# List of all tools\n",
        "tools = [jd_tool, plan_tool, cost_tool]\n"
      ],
      "metadata": {
        "id": "59x24o65lHKf"
      },
      "execution_count": 10,
      "outputs": []
    },
    {
      "cell_type": "code",
      "source": [
        "from langchain.agents import initialize_agent, AgentType\n",
        "from langchain.memory import ConversationBufferMemory\n",
        "\n",
        "# Step 1: Memory\n",
        "memory = ConversationBufferMemory(memory_key=\"chat_history\", return_messages=True)\n",
        "\n",
        "# Step 2: Initialize the Agent\n",
        "agent = initialize_agent(\n",
        "    tools=tools,\n",
        "    llm=llm,\n",
        "    agent=AgentType.CHAT_CONVERSATIONAL_REACT_DESCRIPTION,\n",
        "    verbose=True,\n",
        "    memory=memory\n",
        ")\n"
      ],
      "metadata": {
        "id": "9e1mO4dZmTjj"
      },
      "execution_count": 11,
      "outputs": []
    },
    {
      "cell_type": "code",
      "source": [
        "# Example 1: Start a conversation\n",
        "agent.run(\"We're hiring a Senior Software Engineer. Can you help me plan the hiring process?\")"
      ],
      "metadata": {
        "colab": {
          "base_uri": "https://localhost:8080/",
          "height": 407
        },
        "id": "lIjsVOuqxD-S",
        "outputId": "a2792713-10e8-47da-9b98-4d49e0bf5be0"
      },
      "execution_count": 21,
      "outputs": [
        {
          "output_type": "stream",
          "name": "stdout",
          "text": [
            "\n",
            "\n",
            "\u001b[1m> Entering new AgentExecutor chain...\u001b[0m\n",
            "\u001b[32;1m\u001b[1;3m```json\n",
            "{\n",
            "    \"action\": \"HiringPlanTool\",\n",
            "    \"action_input\": \"Senior Software Engineer\"\n",
            "}\n",
            "```\u001b[0m\n",
            "Observation: \u001b[33;1m\u001b[1;3mThe hiring plan for a Senior Software Engineer at SquareShift includes: 1) Sourcing candidates through tech communities and platforms; 2) Screening resumes for alignment with our expertise in AI, ML, and cloud services; 3) Conducting technical interviews focusing on problem-solving and innovation; 4) Final interviews to assess cultural fit and commitment to our mission; 5) Rolling out offers with competitive compensation and growth opportunities.\u001b[0m\n",
            "Thought:\u001b[32;1m\u001b[1;3m```json\n",
            "{\n",
            "    \"action\": \"Final Answer\",\n",
            "    \"action_input\": \"The hiring plan for a Senior Software Engineer at SquareShift includes: 1) Sourcing candidates through tech communities and platforms; 2) Screening resumes for alignment with our expertise in AI, ML, and cloud services; 3) Conducting technical interviews focusing on problem-solving and innovation; 4) Final interviews to assess cultural fit and commitment to our mission; 5) Rolling out offers with competitive compensation and growth opportunities.\"\n",
            "}\n",
            "```\u001b[0m\n",
            "\n",
            "\u001b[1m> Finished chain.\u001b[0m\n"
          ]
        },
        {
          "output_type": "execute_result",
          "data": {
            "text/plain": [
              "'The hiring plan for a Senior Software Engineer at SquareShift includes: 1) Sourcing candidates through tech communities and platforms; 2) Screening resumes for alignment with our expertise in AI, ML, and cloud services; 3) Conducting technical interviews focusing on problem-solving and innovation; 4) Final interviews to assess cultural fit and commitment to our mission; 5) Rolling out offers with competitive compensation and growth opportunities.'"
            ],
            "application/vnd.google.colaboratory.intrinsic+json": {
              "type": "string"
            }
          },
          "metadata": {},
          "execution_count": 21
        }
      ]
    },
    {
      "cell_type": "code",
      "source": [
        "# Example 2: Ask about JD\n",
        "agent.run(\"Can you generate a job description for this role?\")"
      ],
      "metadata": {
        "colab": {
          "base_uri": "https://localhost:8080/",
          "height": 831
        },
        "id": "Or2VkVxTxIlG",
        "outputId": "fd00ed1c-eeff-4a9f-956f-82edbb537467"
      },
      "execution_count": 22,
      "outputs": [
        {
          "output_type": "stream",
          "name": "stdout",
          "text": [
            "\n",
            "\n",
            "\u001b[1m> Entering new AgentExecutor chain...\u001b[0m\n",
            "\u001b[32;1m\u001b[1;3m```json\n",
            "{\n",
            "    \"action\": \"JobDescriptionGenerator\",\n",
            "    \"action_input\": \"DevOps Engineer\"\n",
            "}\n",
            "```\u001b[0m\n",
            "Observation: \u001b[36;1m\u001b[1;3mSquareShift is seeking a talented and experienced DevOps Engineer to join our dynamic team. As a DevOps Engineer at SquareShift, you will play a crucial role in driving digital transformation, data engineering, cybersecurity, and cloud adoption initiatives for our clients in the USA, Singapore, and India. \n",
            "\n",
            "Responsibilities:\n",
            "- Collaborate with cross-functional teams to design, implement, and maintain scalable and secure infrastructure solutions\n",
            "- Drive digital transformation efforts by automating processes, optimizing workflows, and implementing best practices\n",
            "- Develop and maintain data engineering pipelines to ensure efficient data processing and analysis\n",
            "- Implement cybersecurity measures to protect our clients' data and infrastructure\n",
            "- Lead cloud adoption initiatives by designing and implementing cloud-based solutions\n",
            "- Work closely with clients to understand their requirements and provide innovative solutions to meet their needs\n",
            "- Stay up-to-date on the latest technologies and trends in DevOps, data engineering, cybersecurity, and cloud computing\n",
            "- Provide technical guidance and support to junior team members\n",
            "\n",
            "Qualifications:\n",
            "- Bachelor's degree in Computer Science, Engineering, or a related field\n",
            "- 5+ years of experience in DevOps, data engineering, cybersecurity, or cloud computing\n",
            "- Strong knowledge of cloud platforms such as AWS, Azure, or Google Cloud\n",
            "- Experience with automation tools such as Ansible, Terraform, or Chef\n",
            "- Proficiency in programming languages such as Python, Java, or Ruby\n",
            "- Excellent communication and collaboration skills\n",
            "- Ability to work in a fast-paced and dynamic environment\n",
            "\n",
            "At SquareShift, we are committed to innovation and client success. If you are passionate about technology and looking to make a difference in the world of DevOps, we want to hear from you. Join us in shaping the future of digital transformation and driving success for our clients in the USA, Singapore, and India.\u001b[0m\n",
            "Thought:\u001b[32;1m\u001b[1;3m```json\n",
            "{\n",
            "    \"action\": \"Final Answer\",\n",
            "    \"action_input\": \"SquareShift is seeking a talented and experienced DevOps Engineer to join our dynamic team. As a DevOps Engineer at SquareShift, you will play a crucial role in driving digital transformation, data engineering, cybersecurity, and cloud adoption initiatives for our clients in the USA, Singapore, and India. Responsibilities include collaborating with cross-functional teams, driving digital transformation efforts, developing data engineering pipelines, implementing cybersecurity measures, leading cloud adoption initiatives, working closely with clients, staying up-to-date on technologies, and providing technical guidance. Qualifications include a Bachelor's degree, 5+ years of experience, knowledge of cloud platforms, experience with automation tools, programming proficiency, communication skills, and ability to work in a fast-paced environment.\"\n",
            "}\n",
            "```\u001b[0m\n",
            "\n",
            "\u001b[1m> Finished chain.\u001b[0m\n"
          ]
        },
        {
          "output_type": "execute_result",
          "data": {
            "text/plain": [
              "\"SquareShift is seeking a talented and experienced DevOps Engineer to join our dynamic team. As a DevOps Engineer at SquareShift, you will play a crucial role in driving digital transformation, data engineering, cybersecurity, and cloud adoption initiatives for our clients in the USA, Singapore, and India. Responsibilities include collaborating with cross-functional teams, driving digital transformation efforts, developing data engineering pipelines, implementing cybersecurity measures, leading cloud adoption initiatives, working closely with clients, staying up-to-date on technologies, and providing technical guidance. Qualifications include a Bachelor's degree, 5+ years of experience, knowledge of cloud platforms, experience with automation tools, programming proficiency, communication skills, and ability to work in a fast-paced environment.\""
            ],
            "application/vnd.google.colaboratory.intrinsic+json": {
              "type": "string"
            }
          },
          "metadata": {},
          "execution_count": 22
        }
      ]
    },
    {
      "cell_type": "code",
      "source": [
        "# Example 3: Cost?\n",
        "agent.run(\"How much will this hire cost us?\")"
      ],
      "metadata": {
        "colab": {
          "base_uri": "https://localhost:8080/",
          "height": 368
        },
        "id": "makzZis5xOgK",
        "outputId": "d16957fa-b73d-4107-bd28-d894753674f6"
      },
      "execution_count": 23,
      "outputs": [
        {
          "output_type": "stream",
          "name": "stdout",
          "text": [
            "\n",
            "\n",
            "\u001b[1m> Entering new AgentExecutor chain...\u001b[0m\n",
            "\u001b[32;1m\u001b[1;3m```json\n",
            "{\n",
            "    \"action\": \"CostEstimatorTool\",\n",
            "    \"action_input\": \"Senior Software Engineer\"\n",
            "}\n",
            "```\u001b[0m\n",
            "Observation: \u001b[38;5;200m\u001b[1;3mThe estimated hiring cost for a Senior Software Engineer at SquareShift is approximately $15000.\u001b[0m\n",
            "Thought:\u001b[32;1m\u001b[1;3m```json\n",
            "{\n",
            "    \"action\": \"Final Answer\",\n",
            "    \"action_input\": \"The estimated hiring cost for a Senior Software Engineer at SquareShift is approximately $15000.\"\n",
            "}\n",
            "```\u001b[0m\n",
            "\n",
            "\u001b[1m> Finished chain.\u001b[0m\n"
          ]
        },
        {
          "output_type": "execute_result",
          "data": {
            "text/plain": [
              "'The estimated hiring cost for a Senior Software Engineer at SquareShift is approximately $15000.'"
            ],
            "application/vnd.google.colaboratory.intrinsic+json": {
              "type": "string"
            }
          },
          "metadata": {},
          "execution_count": 23
        }
      ]
    }
  ]
}